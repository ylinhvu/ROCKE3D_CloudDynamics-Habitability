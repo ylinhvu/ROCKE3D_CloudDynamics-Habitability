{
 "cells": [
  {
   "cell_type": "code",
   "execution_count": 168,
   "id": "4c687ae1",
   "metadata": {},
   "outputs": [],
   "source": [
    "import urllib\n",
    "import pandas as pd\n",
    "import numpy as np"
   ]
  },
  {
   "cell_type": "code",
   "execution_count": 190,
   "id": "753669b8",
   "metadata": {},
   "outputs": [],
   "source": [
    "def download_ROCKE3D(dimension,user_dir,searchfor,exclude):\n",
    "    # Scrape list of netCDF files from ROCKE-3D website\n",
    "    url = 'https://portal.nccs.nasa.gov/GISS_modelE/ROCKE-3D/publication-supplements/Climates_of_Warm_Earth_like_Planets_I/'+dimension\n",
    "    print('Searching in: ' + url)\n",
    "    print('Downloading to: ' + user_dir)\n",
    "    tables = pd.read_html(url,header=0, skiprows=2, keep_default_na=False)\n",
    "    table = tables[2]\n",
    "    \n",
    "    # Filter files\n",
    "    new_table = table['Parent Directory']\n",
    "    for filters in searchfor:\n",
    "        new_table = new_table[new_table.str.contains(filters)]\n",
    "    for filters in exclude:\n",
    "        new_table = new_table[~new_table.str.contains(filters)]\n",
    "    filenames = new_table.tolist()\n",
    "    \n",
    "    # Download\n",
    "    for idx, file in enumerate(filenames):\n",
    "        download_url = url + file\n",
    "        print('Downloading: ' + file + ' (' + str(idx+1) + '/' + str(len(filenames)) + ')')\n",
    "        urllib.request.urlretrieve(download_url, user_dir+file)"
   ]
  },
  {
   "cell_type": "code",
   "execution_count": 192,
   "id": "19372315",
   "metadata": {},
   "outputs": [
    {
     "name": "stdout",
     "output_type": "stream",
     "text": [
      "Searching in: https://portal.nccs.nasa.gov/GISS_modelE/ROCKE-3D/publication-supplements/Climates_of_Warm_Earth_like_Planets_I/AIJ/\n",
      "Downloading to: C:/Users/ylinh/OneDrive - UW/Exoplanetary Atmospheres/AIJ/\n",
      "Downloading: amANN0990-0999.aijP211eoDOFP3Od_X001_O30.nc (0/3)\n",
      "Downloading: amANN0990-0999.aijP212eoDOFP3Od_X001_O30.nc (1/3)\n",
      "Downloading: amANN1290-1299.aijP213eoDOFP3Od_X001_O30.nc (2/3)\n",
      "Searching in: https://portal.nccs.nasa.gov/GISS_modelE/ROCKE-3D/publication-supplements/Climates_of_Warm_Earth_like_Planets_I/AIJ/\n",
      "Downloading to: C:/Users/ylinh/OneDrive - UW/Exoplanetary Atmospheres/AIJ/\n",
      "Downloading: amANN0990-0999.aijP211eoDOFP3Od_X002_O30.nc (0/3)\n",
      "Downloading: amANN0990-0999.aijP212eoDOFP3Od_X002_O30.nc (1/3)\n",
      "Downloading: amANN0990-0999.aijP213eoDOFP3Od_X002_O30.nc (2/3)\n",
      "Searching in: https://portal.nccs.nasa.gov/GISS_modelE/ROCKE-3D/publication-supplements/Climates_of_Warm_Earth_like_Planets_I/AIJ/\n",
      "Downloading to: C:/Users/ylinh/OneDrive - UW/Exoplanetary Atmospheres/AIJ/\n",
      "Downloading: amANN0990-0999.aijP211eoDOFP3Od_X004_O30.nc (0/4)\n",
      "Downloading: amANN0990-0999.aijP212eoDOFP3Od_X004_O30.nc (1/4)\n",
      "Downloading: amANN0990-0999.aijP213eoDOFP3Od_X004_O30.nc (2/4)\n",
      "Downloading: amANN0990-0999.aijP214eoDOFP3Od_X004_O30.nc (3/4)\n",
      "Searching in: https://portal.nccs.nasa.gov/GISS_modelE/ROCKE-3D/publication-supplements/Climates_of_Warm_Earth_like_Planets_I/AIJ/\n",
      "Downloading to: C:/Users/ylinh/OneDrive - UW/Exoplanetary Atmospheres/AIJ/\n",
      "Downloading: amANN0990-0999.aijP211eoDOFP3Od_X008_O30.nc (0/5)\n",
      "Downloading: amANN0990-0999.aijP212eoDOFP3Od_X008_O30.nc (1/5)\n",
      "Downloading: amANN0990-0999.aijP213eoDOFP3Od_X008_O30.nc (2/5)\n",
      "Downloading: amANN1290-1299.aijP214eoDOFP3Od_X008_O30.nc (3/5)\n",
      "Downloading: amANN1490-1499.aijP215eoDOFP3Od_X008_O30.nc (4/5)\n",
      "Searching in: https://portal.nccs.nasa.gov/GISS_modelE/ROCKE-3D/publication-supplements/Climates_of_Warm_Earth_like_Planets_I/AIJ/\n",
      "Downloading to: C:/Users/ylinh/OneDrive - UW/Exoplanetary Atmospheres/AIJ/\n",
      "Downloading: amANN0990-0999.aijP211eoDOFP3Od_X032_O30.nc (0/9)\n",
      "Downloading: amANN0990-0999.aijP212eoDOFP3Od_X032_O30.nc (1/9)\n",
      "Downloading: amANN0990-0999.aijP213eoDOFP3Od_X032_O30.nc (2/9)\n",
      "Downloading: amANN1290-1299.aijP214eoDOFP3Od_X032_O30.nc (3/9)\n",
      "Downloading: amANN1290-1299.aijP216eoDOFP3Od_X032_O30.nc (4/9)\n",
      "Downloading: amANN1490-1499.aijP215eoDOFP3Od_X032_O30.nc (5/9)\n",
      "Downloading: amANN2490-2499.aijP217eoDOFP3Od_X032_O30.nc (6/9)\n",
      "Downloading: amANN2490-2499.aijP219eoDOFP3Od_X032_O30.nc (7/9)\n",
      "Downloading: amANN2990-2999.aijP221eoDOFP3Od_X032_O30.nc (8/9)\n",
      "Searching in: https://portal.nccs.nasa.gov/GISS_modelE/ROCKE-3D/publication-supplements/Climates_of_Warm_Earth_like_Planets_I/AIJ/\n",
      "Downloading to: C:/Users/ylinh/OneDrive - UW/Exoplanetary Atmospheres/AIJ/\n",
      "Downloading: amANN0990-0999.aijP211eoDOFP3Od_X064_O30.nc (0/13)\n",
      "Downloading: amANN0990-0999.aijP212eoDOFP3Od_X064_O30.nc (1/13)\n",
      "Downloading: amANN0990-0999.aijP213eoDOFP3Od_X064_O30.nc (2/13)\n",
      "Downloading: amANN0990-0999.aijP214eoDOFP3Od_X064_O30.nc (3/13)\n",
      "Downloading: amANN0990-0999.aijP215eoDOFP3Od_X064_O30.nc (4/13)\n",
      "Downloading: amANN0990-0999.aijP216eoDOFP3Od_X064_O30.nc (5/13)\n",
      "Downloading: amANN0990-0999.aijP217eoDOFP3Od_X064_O30.nc (6/13)\n",
      "Downloading: amANN0990-0999.aijP219eoDOFP3Od_X064_O30.nc (7/13)\n",
      "Downloading: amANN0990-0999.aijP221eoDOFP3Od_X064_O30.nc (8/13)\n",
      "Downloading: amANN1490-1499.aijP223eoDOFP3Od_X064_O30.nc (9/13)\n",
      "Downloading: amANN1490-1499.aijP227eoDOFP3Od_X064_O30.nc (10/13)\n",
      "Downloading: amANN1690-1699.aijP225eoDOFP3Od_X064_O30.nc (11/13)\n",
      "Downloading: amANN1990-1999.aijP229eoDOFP3Od_X064_O30.nc (12/13)\n",
      "Searching in: https://portal.nccs.nasa.gov/GISS_modelE/ROCKE-3D/publication-supplements/Climates_of_Warm_Earth_like_Planets_I/AIJ/\n",
      "Downloading to: C:/Users/ylinh/OneDrive - UW/Exoplanetary Atmospheres/AIJ/\n",
      "Downloading: amANN0950-0999.aijP211eoDOFP3Od_X128_O30.nc (0/12)\n",
      "Downloading: amANN0950-0999.aijP212eoDOFP3Od_X128_O30.nc (1/12)\n",
      "Downloading: amANN0950-0999.aijP213eoDOFP3Od_X128_O30.nc (2/12)\n",
      "Downloading: amANN0950-0999.aijP214eoDOFP3Od_X128_O30.nc (3/12)\n",
      "Downloading: amANN0950-0999.aijP215eoDOFP3Od_X128_O30.nc (4/12)\n",
      "Downloading: amANN0950-0999.aijP216eoDOFP3Od_X128_O30.nc (5/12)\n",
      "Downloading: amANN0950-0999.aijP217eoDOFP3Od_X128_O30.nc (6/12)\n",
      "Downloading: amANN0950-0999.aijP219eoDOFP3Od_X128_O30.nc (7/12)\n",
      "Downloading: amANN0950-0999.aijP221eoDOFP3Od_X128_O30.nc (8/12)\n",
      "Downloading: amANN0950-0999.aijP223eoDOFP3Od_X128_O30.nc (9/12)\n",
      "Downloading: amANN1250-1299.aijP225eoDOFP3Od_X128_O30.nc (10/12)\n",
      "Downloading: amANN1250-1299.aijP227eoDOFP3Od_X128_O30.nc (11/12)\n"
     ]
    }
   ],
   "source": [
    "dimension = 'AIJ/'\n",
    "user_dir = 'C:/Users/ylinh/OneDrive - UW/Exoplanetary Atmospheres/' + dimension\n",
    "exclude = ['O30S']\n",
    "\n",
    "rotation_rate = ['X001', 'X002','X004','X008','X032','X064','X128']\n",
    "\n",
    "for rate in rotation_rate:\n",
    "    searchfor = ['DOFP3Od']\n",
    "    searchfor.append(rate)\n",
    "    download_ROCKE3D(dimension,user_dir,searchfor,exclude)"
   ]
  },
  {
   "cell_type": "markdown",
   "id": "7e33500e",
   "metadata": {},
   "source": [
    "See how the function works below:"
   ]
  },
  {
   "cell_type": "code",
   "execution_count": 162,
   "id": "038c2f71",
   "metadata": {},
   "outputs": [
    {
     "name": "stdout",
     "output_type": "stream",
     "text": [
      "Searching in: https://portal.nccs.nasa.gov/GISS_modelE/ROCKE-3D/publication-supplements/Climates_of_Warm_Earth_like_Planets_I/AIJ/\n",
      "Downloading to: C:/Users/ylinh/OneDrive - UW/Exoplanetary Atmospheres/AIJ/\n"
     ]
    }
   ],
   "source": [
    "dimension = 'AIJ/' # AIJL, AIJ, OIJL, ACC, etc.\n",
    "user_dir = 'C:/Users/ylinh/OneDrive - UW/Exoplanetary Atmospheres/' + dimension\n",
    "\n",
    "url = 'https://portal.nccs.nasa.gov/GISS_modelE/ROCKE-3D/publication-supplements/Climates_of_Warm_Earth_like_Planets_I/'+dimension\n",
    "print('Searching in: ' + url)\n",
    "print('Downloading to: ' + user_dir)"
   ]
  },
  {
   "cell_type": "code",
   "execution_count": 151,
   "id": "3b08ce9f",
   "metadata": {},
   "outputs": [],
   "source": [
    "# Opens the ROCKE-3D webpage and turns all tables in pandas dataFrames\n",
    "tables = pd.read_html(url,header=0, skiprows=2, keep_default_na=False)\n",
    "print(\"There are: \",len(tables),\" tables\")\n",
    "table = tables[2] #selects the table which contains the names of all of the .nc files\n",
    "table"
   ]
  },
  {
   "cell_type": "code",
   "execution_count": 172,
   "id": "9a1853ea",
   "metadata": {},
   "outputs": [
    {
     "name": "stdout",
     "output_type": "stream",
     "text": [
      "(147,)\n",
      "(0,)\n",
      "(0,)\n"
     ]
    },
    {
     "data": {
      "text/plain": [
       "[]"
      ]
     },
     "execution_count": 172,
     "metadata": {},
     "output_type": "execute_result"
    }
   ],
   "source": [
    "# Filter for certain keywords to find the simulations you are looking for\n",
    "# Here I'm searching for dynamic ocean (DOPF3Od) and X256 rotation rate runs and excluding O30S runs\n",
    "searchfor = ['DOFP3Od', 'X256']\n",
    "exclude = ['O30S']\n",
    "\n",
    "new_table = table['Parent Directory']\n",
    "print(np.shape(new_table))\n",
    "\n",
    "for filters in searchfor:\n",
    "    new_table = new_table[new_table.str.contains(filters)]\n",
    "print(np.shape(new_table))\n",
    "    \n",
    "for filters in exclude:\n",
    "    new_table = new_table[~new_table.str.contains(filters)]\n",
    "print(np.shape(new_table))\n",
    "\n",
    "filenames = new_table.tolist()\n",
    "filenames"
   ]
  },
  {
   "cell_type": "code",
   "execution_count": 171,
   "id": "39caa147",
   "metadata": {},
   "outputs": [
    {
     "name": "stdout",
     "output_type": "stream",
     "text": [
      "Downloading: amANN0900-0999.aijP211eoDOFP3Od_X256_O30.nc\n",
      "Downloading: amANN0900-0999.aijP212eoDOFP3Od_X256_O30.nc\n",
      "Downloading: amANN0900-0999.aijP213eoDOFP3Od_X256_O30.nc\n",
      "Downloading: amANN0900-0999.aijP214eoDOFP3Od_X256_O30.nc\n",
      "Downloading: amANN0900-0999.aijP216eoDOFP3Od_X256_O30.nc\n",
      "Downloading: amANN0900-0999.aijP217eoDOFP3Od_X256_O30.nc\n",
      "Downloading: amANN0900-0999.aijP219eoDOFP3Od_X256_O30.nc\n",
      "Downloading: amANN0900-0999.aijP221eoDOFP3Od_X256_O30.nc\n",
      "Downloading: amANN0900-0999.aijP223eoDOFP3Od_X256_O30.nc\n",
      "Downloading: amANN0900-0999.aijP225eoDOFP3Od_X256_O30.nc\n",
      "Downloading: amANN1400-1499.aijP215eoDOFP3Od_X256_O30.nc\n"
     ]
    }
   ],
   "source": [
    "for idx, file in enumerate(filenames):\n",
    "    download_url = url + file\n",
    "    print('Downloading: ' + file)\n",
    "    urllib.request.urlretrieve(download_url, user_dir+file)"
   ]
  }
 ],
 "metadata": {
  "kernelspec": {
   "display_name": "Python 3",
   "language": "python",
   "name": "python3"
  },
  "language_info": {
   "codemirror_mode": {
    "name": "ipython",
    "version": 3
   },
   "file_extension": ".py",
   "mimetype": "text/x-python",
   "name": "python",
   "nbconvert_exporter": "python",
   "pygments_lexer": "ipython3",
   "version": "3.8.8"
  }
 },
 "nbformat": 4,
 "nbformat_minor": 5
}
