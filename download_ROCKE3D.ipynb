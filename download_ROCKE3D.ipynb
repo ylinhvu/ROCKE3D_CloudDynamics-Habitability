{
 "cells": [
  {
   "cell_type": "code",
   "execution_count": 1,
   "id": "4c687ae1",
   "metadata": {},
   "outputs": [],
   "source": [
    "import urllib\n",
    "import pandas as pd\n",
    "import numpy as np"
   ]
  },
  {
   "cell_type": "code",
   "execution_count": 9,
   "id": "753669b8",
   "metadata": {},
   "outputs": [],
   "source": [
    "def download_ROCKE3D(directory,user_dir,searchfor,exclude):\n",
    "    # Scrape list of netCDF files from ROCKE-3D website\n",
    "    url = 'https://portal.nccs.nasa.gov/GISS_modelE/ROCKE-3D/publication-supplements/Climates_of_Warm_Earth_like_Planets_I/'+directory+'/'\n",
    "    print('Searching in: ' + url)\n",
    "    print('Downloading to: ' + user_dir)\n",
    "    tables = pd.read_html(url,header=0, skiprows=2, keep_default_na=False)\n",
    "    table = tables[2]\n",
    "    \n",
    "    # Filter files\n",
    "    filtered_table = table['Parent Directory']\n",
    "    for filters in searchfor:\n",
    "        filtered_table = filtered_table[filtered_table.str.contains(filters)]\n",
    "    for filters in exclude:\n",
    "        filtered_table = filtered_table[~filtered_table.str.contains(filters)]\n",
    "    filenames = filtered_table.tolist()\n",
    "    \n",
    "    # Download to user directory\n",
    "    for idx, file in enumerate(filenames):\n",
    "        download_url = url + file\n",
    "        print('Downloading: ' + file + ' (' + str(idx+1) + '/' + str(len(filenames)) + ')')\n",
    "        urllib.request.urlretrieve(download_url, user_dir+file)"
   ]
  },
  {
   "cell_type": "code",
   "execution_count": 10,
   "id": "19372315",
   "metadata": {},
   "outputs": [
    {
     "name": "stdout",
     "output_type": "stream",
     "text": [
      "Searching in: https://portal.nccs.nasa.gov/GISS_modelE/ROCKE-3D/publication-supplements/Climates_of_Warm_Earth_like_Planets_I/AJL/\n",
      "Downloading to: C:/Users/ylinh/OneDrive - UW/Exoplanetary Atmospheres/AJL\n",
      "Downloading: ANN0990-0999.ajlP211eoDOFP3Od_X064_O30.nc (1/13)\n",
      "Downloading: ANN0990-0999.ajlP212eoDOFP3Od_X064_O30.nc (2/13)\n",
      "Downloading: ANN0990-0999.ajlP213eoDOFP3Od_X064_O30.nc (3/13)\n",
      "Downloading: ANN0990-0999.ajlP214eoDOFP3Od_X064_O30.nc (4/13)\n",
      "Downloading: ANN0990-0999.ajlP215eoDOFP3Od_X064_O30.nc (5/13)\n",
      "Downloading: ANN0990-0999.ajlP216eoDOFP3Od_X064_O30.nc (6/13)\n",
      "Downloading: ANN0990-0999.ajlP217eoDOFP3Od_X064_O30.nc (7/13)\n",
      "Downloading: ANN0990-0999.ajlP219eoDOFP3Od_X064_O30.nc (8/13)\n",
      "Downloading: ANN0990-0999.ajlP221eoDOFP3Od_X064_O30.nc (9/13)\n",
      "Downloading: ANN1490-1499.ajlP223eoDOFP3Od_X064_O30.nc (10/13)\n",
      "Downloading: ANN1490-1499.ajlP227eoDOFP3Od_X064_O30.nc (11/13)\n",
      "Downloading: ANN1690-1699.ajlP225eoDOFP3Od_X064_O30.nc (12/13)\n",
      "Downloading: ANN1990-1999.ajlP229eoDOFP3Od_X064_O30.nc (13/13)\n"
     ]
    }
   ],
   "source": [
    "directory = 'AJL'\n",
    "user_dir = 'C:/Users/ylinh/OneDrive - UW/Exoplanetary Atmospheres/' + directory\n",
    "exclude = ['O30S','COND']\n",
    "\n",
    "rotation_rate = ['X064']\n",
    "# ['X001', 'X002', 'X004', 'X008', 'X016', 'X0032', 'X064', 'X128', 'X256']\n",
    "\n",
    "for rate in rotation_rate:\n",
    "    searchfor = ['DOFP3Od']\n",
    "    searchfor.append(rate)\n",
    "    download_ROCKE3D(directory,user_dir,searchfor,exclude)"
   ]
  },
  {
   "cell_type": "code",
   "execution_count": null,
   "id": "af91479b",
   "metadata": {},
   "outputs": [],
   "source": []
  },
  {
   "cell_type": "code",
   "execution_count": null,
   "id": "2774ebf4",
   "metadata": {},
   "outputs": [],
   "source": []
  },
  {
   "cell_type": "markdown",
   "id": "7e33500e",
   "metadata": {},
   "source": [
    "See how the function works below:"
   ]
  },
  {
   "cell_type": "code",
   "execution_count": 162,
   "id": "038c2f71",
   "metadata": {},
   "outputs": [
    {
     "name": "stdout",
     "output_type": "stream",
     "text": [
      "Searching in: https://portal.nccs.nasa.gov/GISS_modelE/ROCKE-3D/publication-supplements/Climates_of_Warm_Earth_like_Planets_I/AIJ/\n",
      "Downloading to: C:/Users/ylinh/OneDrive - UW/Exoplanetary Atmospheres/AIJ/\n"
     ]
    }
   ],
   "source": [
    "directory = 'AIJ/' # AIJL, AIJ, OIJL, ACC, etc.\n",
    "user_dir = 'C:/Users/ylinh/OneDrive - UW/Exoplanetary Atmospheres/' + directory\n",
    "\n",
    "url = 'https://portal.nccs.nasa.gov/GISS_modelE/ROCKE-3D/publication-supplements/Climates_of_Warm_Earth_like_Planets_I/'+directory\n",
    "print('Searching in: ' + url)\n",
    "print('Downloading to: ' + user_dir)"
   ]
  },
  {
   "cell_type": "code",
   "execution_count": 151,
   "id": "3b08ce9f",
   "metadata": {},
   "outputs": [],
   "source": [
    "# Opens the ROCKE-3D webpage and turns all tables in pandas dataFrames\n",
    "tables = pd.read_html(url,header=0, skiprows=2, keep_default_na=False)\n",
    "print(\"There are: \",len(tables),\" tables\")\n",
    "table = tables[2] #selects the table which contains the names of all of the .nc files\n",
    "table"
   ]
  },
  {
   "cell_type": "code",
   "execution_count": 172,
   "id": "9a1853ea",
   "metadata": {},
   "outputs": [
    {
     "name": "stdout",
     "output_type": "stream",
     "text": [
      "(147,)\n",
      "(0,)\n",
      "(0,)\n"
     ]
    },
    {
     "data": {
      "text/plain": [
       "[]"
      ]
     },
     "execution_count": 172,
     "metadata": {},
     "output_type": "execute_result"
    }
   ],
   "source": [
    "# Filter for certain keywords to find the simulations you are looking for\n",
    "# Here I'm searching for dynamic ocean (DOPF3Od) and X256 rotation rate runs and excluding O30S runs\n",
    "searchfor = ['DOFP3Od', 'X256']\n",
    "exclude = ['O30S']\n",
    "\n",
    "filtered_table = table['Parent Directory']\n",
    "print(np.shape(filtered_table))\n",
    "\n",
    "for filters in searchfor:\n",
    "    filtered_table = filtered_table[filtered_table.str.contains(filters)]\n",
    "print(np.shape(filtered_table))\n",
    "    \n",
    "for filters in exclude:\n",
    "    filtered_table = filtered_table[~filtered_table.str.contains(filters)]\n",
    "print(np.shape(filtered_table))\n",
    "\n",
    "filenames = filtered_table.tolist()\n",
    "filenames"
   ]
  },
  {
   "cell_type": "code",
   "execution_count": 171,
   "id": "39caa147",
   "metadata": {},
   "outputs": [
    {
     "name": "stdout",
     "output_type": "stream",
     "text": [
      "Downloading: amANN0900-0999.aijP211eoDOFP3Od_X256_O30.nc\n",
      "Downloading: amANN0900-0999.aijP212eoDOFP3Od_X256_O30.nc\n",
      "Downloading: amANN0900-0999.aijP213eoDOFP3Od_X256_O30.nc\n",
      "Downloading: amANN0900-0999.aijP214eoDOFP3Od_X256_O30.nc\n",
      "Downloading: amANN0900-0999.aijP216eoDOFP3Od_X256_O30.nc\n",
      "Downloading: amANN0900-0999.aijP217eoDOFP3Od_X256_O30.nc\n",
      "Downloading: amANN0900-0999.aijP219eoDOFP3Od_X256_O30.nc\n",
      "Downloading: amANN0900-0999.aijP221eoDOFP3Od_X256_O30.nc\n",
      "Downloading: amANN0900-0999.aijP223eoDOFP3Od_X256_O30.nc\n",
      "Downloading: amANN0900-0999.aijP225eoDOFP3Od_X256_O30.nc\n",
      "Downloading: amANN1400-1499.aijP215eoDOFP3Od_X256_O30.nc\n"
     ]
    }
   ],
   "source": [
    "for idx, file in enumerate(filenames):\n",
    "    download_url = url + file\n",
    "    print('Downloading: ' + file)\n",
    "    urllib.request.urlretrieve(download_url, user_dir+file)"
   ]
  }
 ],
 "metadata": {
  "kernelspec": {
   "display_name": "Python 3",
   "language": "python",
   "name": "python3"
  },
  "language_info": {
   "codemirror_mode": {
    "name": "ipython",
    "version": 3
   },
   "file_extension": ".py",
   "mimetype": "text/x-python",
   "name": "python",
   "nbconvert_exporter": "python",
   "pygments_lexer": "ipython3",
   "version": "3.8.8"
  }
 },
 "nbformat": 4,
 "nbformat_minor": 5
}
